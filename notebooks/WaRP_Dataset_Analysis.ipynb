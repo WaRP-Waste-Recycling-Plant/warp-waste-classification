{
 "cells": [
  {
   "cell_type": "markdown",
   "metadata": {},
   "source": [
    "# **Projeto WaRP - Waste Recycling Plant**"
   ]
  },
  {
   "cell_type": "markdown",
   "metadata": {},
   "source": [
    "---\n",
    "## **⚠️ Observações Importantes:**\n",
    "**1.** Todas as análises devem ter tratamento de erro, garantindo que o notebook continue rodando mesmo que ocorram problemas como dados faltantes, diretórios incorretos ou arquivos corrompidos.\n",
    "\n",
    "**2.** Registrar qualquer problema encontrado, como:\n",
    "- Alto número de imagens corrompidas.\n",
    "- Desbalanceamento severo nas classes.\n",
    "- Alto número de duplicatas.\n",
    "\n",
    "**3.** Documentar a decisão para resolução de probblemas, como:\n",
    "- Exclução e/ou substituição de imagens corrompidas (porque, quais e quantas).\n",
    "- Realização de padronização de imagens (porque, quais e quantas).\n",
    "\n",
    "**4.** Sempre documentar o que foi observado em cada gráfico ou análise.\n",
    "\n",
    "---"
   ]
  },
  {
   "cell_type": "markdown",
   "metadata": {},
   "source": [
    "## **Etapa 1 - Análise do Dataset**"
   ]
  },
  {
   "cell_type": "markdown",
   "metadata": {},
   "source": [
    "### 🧠 Instalação dos pacotes necessários"
   ]
  },
  {
   "cell_type": "code",
   "execution_count": 1,
   "metadata": {},
   "outputs": [
    {
     "name": "stdout",
     "output_type": "stream",
     "text": [
      "Collecting opendatasets\n",
      "  Downloading opendatasets-0.1.22-py3-none-any.whl.metadata (9.2 kB)\n",
      "Requirement already satisfied: tqdm in c:\\users\\elineison\\desktop\\faculdade ads\\ciência de dados\\bootcamp\\warp-waste-classification\\.venv\\lib\\site-packages (from opendatasets) (4.66.4)\n",
      "Collecting kaggle (from opendatasets)\n",
      "  Downloading kaggle-1.7.4.5-py3-none-any.whl.metadata (16 kB)\n",
      "Collecting click (from opendatasets)\n",
      "  Downloading click-8.2.1-py3-none-any.whl.metadata (2.5 kB)\n",
      "Requirement already satisfied: colorama in c:\\users\\elineison\\desktop\\faculdade ads\\ciência de dados\\bootcamp\\warp-waste-classification\\.venv\\lib\\site-packages (from click->opendatasets) (0.4.6)\n",
      "Requirement already satisfied: bleach in c:\\users\\elineison\\desktop\\faculdade ads\\ciência de dados\\bootcamp\\warp-waste-classification\\.venv\\lib\\site-packages (from kaggle->opendatasets) (6.2.0)\n",
      "Requirement already satisfied: certifi>=14.05.14 in c:\\users\\elineison\\desktop\\faculdade ads\\ciência de dados\\bootcamp\\warp-waste-classification\\.venv\\lib\\site-packages (from kaggle->opendatasets) (2025.6.15)\n",
      "Requirement already satisfied: charset-normalizer in c:\\users\\elineison\\desktop\\faculdade ads\\ciência de dados\\bootcamp\\warp-waste-classification\\.venv\\lib\\site-packages (from kaggle->opendatasets) (3.4.2)\n",
      "Requirement already satisfied: idna in c:\\users\\elineison\\desktop\\faculdade ads\\ciência de dados\\bootcamp\\warp-waste-classification\\.venv\\lib\\site-packages (from kaggle->opendatasets) (3.10)\n",
      "Requirement already satisfied: protobuf in c:\\users\\elineison\\desktop\\faculdade ads\\ciência de dados\\bootcamp\\warp-waste-classification\\.venv\\lib\\site-packages (from kaggle->opendatasets) (4.25.8)\n",
      "Requirement already satisfied: python-dateutil>=2.5.3 in c:\\users\\elineison\\desktop\\faculdade ads\\ciência de dados\\bootcamp\\warp-waste-classification\\.venv\\lib\\site-packages (from kaggle->opendatasets) (2.9.0.post0)\n",
      "Collecting python-slugify (from kaggle->opendatasets)\n",
      "  Downloading python_slugify-8.0.4-py2.py3-none-any.whl.metadata (8.5 kB)\n",
      "Requirement already satisfied: requests in c:\\users\\elineison\\desktop\\faculdade ads\\ciência de dados\\bootcamp\\warp-waste-classification\\.venv\\lib\\site-packages (from kaggle->opendatasets) (2.32.4)\n",
      "Requirement already satisfied: setuptools>=21.0.0 in c:\\users\\elineison\\desktop\\faculdade ads\\ciência de dados\\bootcamp\\warp-waste-classification\\.venv\\lib\\site-packages (from kaggle->opendatasets) (80.9.0)\n",
      "Requirement already satisfied: six>=1.10 in c:\\users\\elineison\\desktop\\faculdade ads\\ciência de dados\\bootcamp\\warp-waste-classification\\.venv\\lib\\site-packages (from kaggle->opendatasets) (1.17.0)\n",
      "Collecting text-unidecode (from kaggle->opendatasets)\n",
      "  Downloading text_unidecode-1.3-py2.py3-none-any.whl.metadata (2.4 kB)\n",
      "Requirement already satisfied: urllib3>=1.15.1 in c:\\users\\elineison\\desktop\\faculdade ads\\ciência de dados\\bootcamp\\warp-waste-classification\\.venv\\lib\\site-packages (from kaggle->opendatasets) (2.5.0)\n",
      "Requirement already satisfied: webencodings in c:\\users\\elineison\\desktop\\faculdade ads\\ciência de dados\\bootcamp\\warp-waste-classification\\.venv\\lib\\site-packages (from kaggle->opendatasets) (0.5.1)\n",
      "Downloading opendatasets-0.1.22-py3-none-any.whl (15 kB)\n",
      "Downloading click-8.2.1-py3-none-any.whl (102 kB)\n",
      "Downloading kaggle-1.7.4.5-py3-none-any.whl (181 kB)\n",
      "Downloading python_slugify-8.0.4-py2.py3-none-any.whl (10 kB)\n",
      "Downloading text_unidecode-1.3-py2.py3-none-any.whl (78 kB)\n",
      "Installing collected packages: text-unidecode, python-slugify, click, kaggle, opendatasets\n",
      "\n",
      "   -------- ------------------------------- 1/5 [python-slugify]\n",
      "   ---------------- ----------------------- 2/5 [click]\n",
      "   ---------------- ----------------------- 2/5 [click]\n",
      "   ------------------------ --------------- 3/5 [kaggle]\n",
      "   ------------------------ --------------- 3/5 [kaggle]\n",
      "   ------------------------ --------------- 3/5 [kaggle]\n",
      "   ------------------------ --------------- 3/5 [kaggle]\n",
      "   ------------------------ --------------- 3/5 [kaggle]\n",
      "   ------------------------ --------------- 3/5 [kaggle]\n",
      "   ------------------------ --------------- 3/5 [kaggle]\n",
      "   -------------------------------- ------- 4/5 [opendatasets]\n",
      "   -------------------------------- ------- 4/5 [opendatasets]\n",
      "   ---------------------------------------- 5/5 [opendatasets]\n",
      "\n",
      "Successfully installed click-8.2.1 kaggle-1.7.4.5 opendatasets-0.1.22 python-slugify-8.0.4 text-unidecode-1.3\n",
      "Requirement already satisfied: pandas in c:\\users\\elineison\\desktop\\faculdade ads\\ciência de dados\\bootcamp\\warp-waste-classification\\.venv\\lib\\site-packages (2.2.2)\n",
      "Requirement already satisfied: numpy>=1.26.0 in c:\\users\\elineison\\desktop\\faculdade ads\\ciência de dados\\bootcamp\\warp-waste-classification\\.venv\\lib\\site-packages (from pandas) (1.26.4)\n",
      "Requirement already satisfied: python-dateutil>=2.8.2 in c:\\users\\elineison\\desktop\\faculdade ads\\ciência de dados\\bootcamp\\warp-waste-classification\\.venv\\lib\\site-packages (from pandas) (2.9.0.post0)\n",
      "Requirement already satisfied: pytz>=2020.1 in c:\\users\\elineison\\desktop\\faculdade ads\\ciência de dados\\bootcamp\\warp-waste-classification\\.venv\\lib\\site-packages (from pandas) (2025.2)\n",
      "Requirement already satisfied: tzdata>=2022.7 in c:\\users\\elineison\\desktop\\faculdade ads\\ciência de dados\\bootcamp\\warp-waste-classification\\.venv\\lib\\site-packages (from pandas) (2025.2)\n",
      "Requirement already satisfied: six>=1.5 in c:\\users\\elineison\\desktop\\faculdade ads\\ciência de dados\\bootcamp\\warp-waste-classification\\.venv\\lib\\site-packages (from python-dateutil>=2.8.2->pandas) (1.17.0)\n",
      "Requirement already satisfied: imagehash in c:\\users\\elineison\\desktop\\faculdade ads\\ciência de dados\\bootcamp\\warp-waste-classification\\.venv\\lib\\site-packages (4.3.1)\n",
      "Requirement already satisfied: PyWavelets in c:\\users\\elineison\\desktop\\faculdade ads\\ciência de dados\\bootcamp\\warp-waste-classification\\.venv\\lib\\site-packages (from imagehash) (1.8.0)\n",
      "Requirement already satisfied: numpy in c:\\users\\elineison\\desktop\\faculdade ads\\ciência de dados\\bootcamp\\warp-waste-classification\\.venv\\lib\\site-packages (from imagehash) (1.26.4)\n",
      "Requirement already satisfied: pillow in c:\\users\\elineison\\desktop\\faculdade ads\\ciência de dados\\bootcamp\\warp-waste-classification\\.venv\\lib\\site-packages (from imagehash) (10.3.0)\n",
      "Requirement already satisfied: scipy in c:\\users\\elineison\\desktop\\faculdade ads\\ciência de dados\\bootcamp\\warp-waste-classification\\.venv\\lib\\site-packages (from imagehash) (1.16.0)\n",
      "Requirement already satisfied: matplotlib in c:\\users\\elineison\\desktop\\faculdade ads\\ciência de dados\\bootcamp\\warp-waste-classification\\.venv\\lib\\site-packages (3.8.4)\n",
      "Requirement already satisfied: contourpy>=1.0.1 in c:\\users\\elineison\\desktop\\faculdade ads\\ciência de dados\\bootcamp\\warp-waste-classification\\.venv\\lib\\site-packages (from matplotlib) (1.3.2)\n",
      "Requirement already satisfied: cycler>=0.10 in c:\\users\\elineison\\desktop\\faculdade ads\\ciência de dados\\bootcamp\\warp-waste-classification\\.venv\\lib\\site-packages (from matplotlib) (0.12.1)\n",
      "Requirement already satisfied: fonttools>=4.22.0 in c:\\users\\elineison\\desktop\\faculdade ads\\ciência de dados\\bootcamp\\warp-waste-classification\\.venv\\lib\\site-packages (from matplotlib) (4.58.4)\n",
      "Requirement already satisfied: kiwisolver>=1.3.1 in c:\\users\\elineison\\desktop\\faculdade ads\\ciência de dados\\bootcamp\\warp-waste-classification\\.venv\\lib\\site-packages (from matplotlib) (1.4.8)\n",
      "Requirement already satisfied: numpy>=1.21 in c:\\users\\elineison\\desktop\\faculdade ads\\ciência de dados\\bootcamp\\warp-waste-classification\\.venv\\lib\\site-packages (from matplotlib) (1.26.4)\n",
      "Requirement already satisfied: packaging>=20.0 in c:\\users\\elineison\\desktop\\faculdade ads\\ciência de dados\\bootcamp\\warp-waste-classification\\.venv\\lib\\site-packages (from matplotlib) (25.0)\n",
      "Requirement already satisfied: pillow>=8 in c:\\users\\elineison\\desktop\\faculdade ads\\ciência de dados\\bootcamp\\warp-waste-classification\\.venv\\lib\\site-packages (from matplotlib) (10.3.0)\n",
      "Requirement already satisfied: pyparsing>=2.3.1 in c:\\users\\elineison\\desktop\\faculdade ads\\ciência de dados\\bootcamp\\warp-waste-classification\\.venv\\lib\\site-packages (from matplotlib) (3.2.3)\n",
      "Requirement already satisfied: python-dateutil>=2.7 in c:\\users\\elineison\\desktop\\faculdade ads\\ciência de dados\\bootcamp\\warp-waste-classification\\.venv\\lib\\site-packages (from matplotlib) (2.9.0.post0)\n",
      "Requirement already satisfied: six>=1.5 in c:\\users\\elineison\\desktop\\faculdade ads\\ciência de dados\\bootcamp\\warp-waste-classification\\.venv\\lib\\site-packages (from python-dateutil>=2.7->matplotlib) (1.17.0)\n",
      "Requirement already satisfied: opencv-python in c:\\users\\elineison\\desktop\\faculdade ads\\ciência de dados\\bootcamp\\warp-waste-classification\\.venv\\lib\\site-packages (4.9.0.80)\n",
      "Requirement already satisfied: numpy>=1.21.2 in c:\\users\\elineison\\desktop\\faculdade ads\\ciência de dados\\bootcamp\\warp-waste-classification\\.venv\\lib\\site-packages (from opencv-python) (1.26.4)\n",
      "Requirement already satisfied: pillow in c:\\users\\elineison\\desktop\\faculdade ads\\ciência de dados\\bootcamp\\warp-waste-classification\\.venv\\lib\\site-packages (10.3.0)\n",
      "Requirement already satisfied: kaggle in c:\\users\\elineison\\desktop\\faculdade ads\\ciência de dados\\bootcamp\\warp-waste-classification\\.venv\\lib\\site-packages (1.7.4.5)\n",
      "Requirement already satisfied: bleach in c:\\users\\elineison\\desktop\\faculdade ads\\ciência de dados\\bootcamp\\warp-waste-classification\\.venv\\lib\\site-packages (from kaggle) (6.2.0)\n",
      "Requirement already satisfied: certifi>=14.05.14 in c:\\users\\elineison\\desktop\\faculdade ads\\ciência de dados\\bootcamp\\warp-waste-classification\\.venv\\lib\\site-packages (from kaggle) (2025.6.15)\n",
      "Requirement already satisfied: charset-normalizer in c:\\users\\elineison\\desktop\\faculdade ads\\ciência de dados\\bootcamp\\warp-waste-classification\\.venv\\lib\\site-packages (from kaggle) (3.4.2)\n",
      "Requirement already satisfied: idna in c:\\users\\elineison\\desktop\\faculdade ads\\ciência de dados\\bootcamp\\warp-waste-classification\\.venv\\lib\\site-packages (from kaggle) (3.10)\n",
      "Requirement already satisfied: protobuf in c:\\users\\elineison\\desktop\\faculdade ads\\ciência de dados\\bootcamp\\warp-waste-classification\\.venv\\lib\\site-packages (from kaggle) (4.25.8)\n",
      "Requirement already satisfied: python-dateutil>=2.5.3 in c:\\users\\elineison\\desktop\\faculdade ads\\ciência de dados\\bootcamp\\warp-waste-classification\\.venv\\lib\\site-packages (from kaggle) (2.9.0.post0)\n",
      "Requirement already satisfied: python-slugify in c:\\users\\elineison\\desktop\\faculdade ads\\ciência de dados\\bootcamp\\warp-waste-classification\\.venv\\lib\\site-packages (from kaggle) (8.0.4)\n",
      "Requirement already satisfied: requests in c:\\users\\elineison\\desktop\\faculdade ads\\ciência de dados\\bootcamp\\warp-waste-classification\\.venv\\lib\\site-packages (from kaggle) (2.32.4)\n",
      "Requirement already satisfied: setuptools>=21.0.0 in c:\\users\\elineison\\desktop\\faculdade ads\\ciência de dados\\bootcamp\\warp-waste-classification\\.venv\\lib\\site-packages (from kaggle) (80.9.0)\n",
      "Requirement already satisfied: six>=1.10 in c:\\users\\elineison\\desktop\\faculdade ads\\ciência de dados\\bootcamp\\warp-waste-classification\\.venv\\lib\\site-packages (from kaggle) (1.17.0)\n",
      "Requirement already satisfied: text-unidecode in c:\\users\\elineison\\desktop\\faculdade ads\\ciência de dados\\bootcamp\\warp-waste-classification\\.venv\\lib\\site-packages (from kaggle) (1.3)\n",
      "Requirement already satisfied: tqdm in c:\\users\\elineison\\desktop\\faculdade ads\\ciência de dados\\bootcamp\\warp-waste-classification\\.venv\\lib\\site-packages (from kaggle) (4.66.4)\n",
      "Requirement already satisfied: urllib3>=1.15.1 in c:\\users\\elineison\\desktop\\faculdade ads\\ciência de dados\\bootcamp\\warp-waste-classification\\.venv\\lib\\site-packages (from kaggle) (2.5.0)\n",
      "Requirement already satisfied: webencodings in c:\\users\\elineison\\desktop\\faculdade ads\\ciência de dados\\bootcamp\\warp-waste-classification\\.venv\\lib\\site-packages (from kaggle) (0.5.1)\n",
      "Requirement already satisfied: colorama in c:\\users\\elineison\\desktop\\faculdade ads\\ciência de dados\\bootcamp\\warp-waste-classification\\.venv\\lib\\site-packages (from tqdm->kaggle) (0.4.6)\n"
     ]
    }
   ],
   "source": [
    "!pip install opendatasets\n",
    "!pip install pandas\n",
    "!pip install imagehash\n",
    "!pip install matplotlib\n",
    "!pip install opencv-python\n",
    "!pip install pillow\n",
    "!pip install kaggle"
   ]
  },
  {
   "cell_type": "markdown",
   "metadata": {},
   "source": [
    "### 1. Download do Dataset 🚀"
   ]
  },
  {
   "cell_type": "code",
   "execution_count": 2,
   "metadata": {},
   "outputs": [
    {
     "ename": "OSError",
     "evalue": "Could not find kaggle.json. Make sure it's located in C:\\Users\\Elineison\\.kaggle. Or use the environment method. See setup instructions at https://github.com/Kaggle/kaggle-api/",
     "output_type": "error",
     "traceback": [
      "\u001b[31m---------------------------------------------------------------------------\u001b[39m",
      "\u001b[31mOSError\u001b[39m                                   Traceback (most recent call last)",
      "\u001b[36mCell\u001b[39m\u001b[36m \u001b[39m\u001b[32mIn[2]\u001b[39m\u001b[32m, line 6\u001b[39m\n\u001b[32m      1\u001b[39m \u001b[38;5;66;03m# os arquivos serão salvos na pasta \"data\" localmente. \u001b[39;00m\n\u001b[32m      2\u001b[39m \u001b[38;5;66;03m# A pasta \"data\" local foi sincronizada bidirecionalmente com Google Drive\u001b[39;00m\n\u001b[32m      3\u001b[39m \n\u001b[32m      4\u001b[39m \u001b[38;5;66;03m# Configuração das credenciais\u001b[39;00m\n\u001b[32m      5\u001b[39m \u001b[38;5;28;01mimport\u001b[39;00m\u001b[38;5;250m \u001b[39m\u001b[34;01mos\u001b[39;00m\n\u001b[32m----> \u001b[39m\u001b[32m6\u001b[39m \u001b[38;5;28;01mfrom\u001b[39;00m\u001b[38;5;250m \u001b[39m\u001b[34;01mkaggle\u001b[39;00m\u001b[34;01m.\u001b[39;00m\u001b[34;01mapi\u001b[39;00m\u001b[34;01m.\u001b[39;00m\u001b[34;01mkaggle_api_extended\u001b[39;00m\u001b[38;5;250m \u001b[39m\u001b[38;5;28;01mimport\u001b[39;00m KaggleApi\n\u001b[32m      8\u001b[39m \u001b[38;5;66;03m# Verificar se o arquivo kaggle.json existe no caminho padrão\u001b[39;00m\n\u001b[32m      9\u001b[39m kaggle_path = os.path.expanduser(\u001b[33m'\u001b[39m\u001b[33m~/.kaggle/kaggle.json\u001b[39m\u001b[33m'\u001b[39m) \u001b[38;5;66;03m# O arquivo kaggle.json deve estar salvo em C:/Users/SeuUsuario/.kaggle/kaggle.json\u001b[39;00m\n",
      "\u001b[36mFile \u001b[39m\u001b[32mc:\\Users\\Elineison\\Desktop\\Faculdade ADS\\Ciência de dados\\Bootcamp\\warp-waste-classification\\.venv\\Lib\\site-packages\\kaggle\\__init__.py:6\u001b[39m\n\u001b[32m      3\u001b[39m \u001b[38;5;28;01mfrom\u001b[39;00m\u001b[38;5;250m \u001b[39m\u001b[34;01mkaggle\u001b[39;00m\u001b[34;01m.\u001b[39;00m\u001b[34;01mapi\u001b[39;00m\u001b[34;01m.\u001b[39;00m\u001b[34;01mkaggle_api_extended\u001b[39;00m\u001b[38;5;250m \u001b[39m\u001b[38;5;28;01mimport\u001b[39;00m KaggleApi\n\u001b[32m      5\u001b[39m api = KaggleApi()\n\u001b[32m----> \u001b[39m\u001b[32m6\u001b[39m \u001b[43mapi\u001b[49m\u001b[43m.\u001b[49m\u001b[43mauthenticate\u001b[49m\u001b[43m(\u001b[49m\u001b[43m)\u001b[49m\n",
      "\u001b[36mFile \u001b[39m\u001b[32mc:\\Users\\Elineison\\Desktop\\Faculdade ADS\\Ciência de dados\\Bootcamp\\warp-waste-classification\\.venv\\Lib\\site-packages\\kaggle\\api\\kaggle_api_extended.py:434\u001b[39m, in \u001b[36mKaggleApi.authenticate\u001b[39m\u001b[34m(self)\u001b[39m\n\u001b[32m    432\u001b[39m     \u001b[38;5;28;01mreturn\u001b[39;00m\n\u001b[32m    433\u001b[39m   \u001b[38;5;28;01melse\u001b[39;00m:\n\u001b[32m--> \u001b[39m\u001b[32m434\u001b[39m     \u001b[38;5;28;01mraise\u001b[39;00m \u001b[38;5;167;01mIOError\u001b[39;00m(\u001b[33m'\u001b[39m\u001b[33mCould not find \u001b[39m\u001b[38;5;132;01m{}\u001b[39;00m\u001b[33m. Make sure it\u001b[39m\u001b[38;5;130;01m\\'\u001b[39;00m\u001b[33ms located in\u001b[39m\u001b[33m'\u001b[39m\n\u001b[32m    435\u001b[39m                   \u001b[33m'\u001b[39m\u001b[33m \u001b[39m\u001b[38;5;132;01m{}\u001b[39;00m\u001b[33m. Or use the environment method. See setup\u001b[39m\u001b[33m'\u001b[39m\n\u001b[32m    436\u001b[39m                   \u001b[33m'\u001b[39m\u001b[33m instructions at\u001b[39m\u001b[33m'\u001b[39m\n\u001b[32m    437\u001b[39m                   \u001b[33m'\u001b[39m\u001b[33m https://github.com/Kaggle/kaggle-api/\u001b[39m\u001b[33m'\u001b[39m.format(\n\u001b[32m    438\u001b[39m                       \u001b[38;5;28mself\u001b[39m.config_file, \u001b[38;5;28mself\u001b[39m.config_dir))\n\u001b[32m    440\u001b[39m \u001b[38;5;66;03m# Step 3: load into configuration!\u001b[39;00m\n\u001b[32m    441\u001b[39m \u001b[38;5;28mself\u001b[39m._load_config(config_data)\n",
      "\u001b[31mOSError\u001b[39m: Could not find kaggle.json. Make sure it's located in C:\\Users\\Elineison\\.kaggle. Or use the environment method. See setup instructions at https://github.com/Kaggle/kaggle-api/"
     ]
    }
   ],
   "source": [
    "# os arquivos serão salvos na pasta \"data\" localmente. \n",
    "# A pasta \"data\" local foi sincronizada bidirecionalmente com Google Drive\n",
    "\n",
    "# Configuração das credenciais\n",
    "import os\n",
    "from kaggle.api.kaggle_api_extended import KaggleApi\n",
    "\n",
    "# Verificar se o arquivo kaggle.json existe no caminho padrão\n",
    "kaggle_path = os.path.expanduser('~/.kaggle/kaggle.json') # O arquivo kaggle.json deve estar salvo em C:/Users/SeuUsuario/.kaggle/kaggle.json\n",
    "if not os.path.exists(kaggle_path):\n",
    "    raise FileNotFoundError(f\"Arquivo kaggle.json não encontrado em {kaggle_path}. Verifique se está salvo corretamente.\")\n",
    "\n",
    "# Verificar ou criar a pasta de destino\n",
    "download_path = '../data' # pasta local\n",
    "\n",
    "if not os.path.exists(download_path):\n",
    "    os.makedirs(download_path)\n",
    "    print(f\"Pasta {download_path} criada com sucesso!\")\n",
    "\n",
    "# Fazer download do dataset\n",
    "try:\n",
    "    print(\"Autenticando com a API do Kaggle...\")\n",
    "    api = KaggleApi()\n",
    "    api.authenticate()\n",
    "\n",
    "    print(\"Iniciando o download do dataset...\")\n",
    "    api.dataset_download_files(\n",
    "        'parohod/warp-waste-recycling-plant-dataset',\n",
    "        path=download_path,\n",
    "        unzip=True\n",
    "    )\n",
    "\n",
    "    print(\"Download concluído com sucesso!\")\n",
    "\n",
    "except Exception as e:\n",
    "    print(f\"Ocorreu um erro durante o download: {e}\")"
   ]
  },
  {
   "cell_type": "markdown",
   "metadata": {},
   "source": [
    "### 2. Criação do DataFrame de Metadados 📂"
   ]
  },
  {
   "cell_type": "markdown",
   "metadata": {},
   "source": [
    "#### Documentação da Criação do DataFrame de Metadados:\n",
    "\n",
    "✔️ **Objetivo:**\n",
    "- Gerar um **DataFrame de metadados** com informações detalhadas sobre cada imagem presente no dataset.\n",
    "- Extrair e armazenar atributos essenciais que serão utilizados nas próximas etapas de análise, validação, limpeza e modelagem.\n",
    "\n",
    "🏗️ **Informações Coletadas para Cada Imagem:**\n",
    "- **image_path:** Caminho completo da imagem no sistema de arquivos.\n",
    "- **corrupted:** Indicação se a imagem está corrompida (True ou False).\n",
    "- **image_hash:** Hash perceptual (utilizando phash) para detecção de duplicatas.\n",
    "- **image_format:** Formato da imagem (ex.: JPG, PNG).\n",
    "- **width:** Largura da imagem (em pixels).\n",
    "- **height:** Altura da imagem (em pixels).\n",
    "- **channels:** Quantidade de canais (esperado 3 para imagens RGB).\n",
    "- **label:** Nome da classe correspondente à imagem, extraído do caminho da pasta.\n",
    "\n",
    "\n",
    "🔧 **Metodologia Utilizada:**\n",
    "- Leitura recursiva de todas as subpastas dentro do diretório principal `../data/Warp-C/train_crops`.\n",
    "- Para cada imagem:\n",
    "    - Leitura usando OpenCV (cv2) e PIL para cálculo do hash perceptual.\n",
    "    - Verificação se a imagem pode ser aberta corretamente. Caso contrário, marcada como corrompida.\n",
    "    - Extração automática do label a partir da hierarquia de pastas.\n",
    "- Todos os dados foram consolidados em um DataFrame do pandas, estruturado e validado.\n",
    "\n",
    "\n",
    "📊 **Resultados Obtidos:**\n",
    "- Total de imagens processadas: 8823\n",
    "- Total de imagens corrompidas: 0 \n",
    "- Imagens corrompidas: Nenhuma imagem corrompida encontrada.\n",
    "\n",
    "\n",
    "🚩 **Observações Importantes:**\n",
    "- Não foram encontradas imagens corrompidas.\n",
    "- Todos os metadados foram extraídos corretamente.\n",
    "- A coluna image_hash será fundamental para etapas posteriores de detecção de duplicatas.\n",
    "- As colunas width, height e channels serão úteis para verificar padrões, outliers e consistência na resolução das imagens.\n",
    "\n",
    "\n",
    "✅ **Conclusões:**\n",
    "- O DataFrame de metadados foi criado com sucesso, está completo, consistente e pronto para as próximas etapas."
   ]
  },
  {
   "cell_type": "code",
   "execution_count": 3,
   "metadata": {},
   "outputs": [
    {
     "name": "stdout",
     "output_type": "stream",
     "text": [
      "Iniciando a análise das imagens...\n"
     ]
    },
    {
     "data": {
      "text/html": [
       "<div>\n",
       "<style scoped>\n",
       "    .dataframe tbody tr th:only-of-type {\n",
       "        vertical-align: middle;\n",
       "    }\n",
       "\n",
       "    .dataframe tbody tr th {\n",
       "        vertical-align: top;\n",
       "    }\n",
       "\n",
       "    .dataframe thead th {\n",
       "        text-align: right;\n",
       "    }\n",
       "</style>\n",
       "<table border=\"1\" class=\"dataframe\">\n",
       "  <thead>\n",
       "    <tr style=\"text-align: right;\">\n",
       "      <th></th>\n",
       "      <th>image_path</th>\n",
       "      <th>corrupted</th>\n",
       "      <th>image_hash</th>\n",
       "      <th>image_format</th>\n",
       "      <th>width</th>\n",
       "      <th>height</th>\n",
       "      <th>channels</th>\n",
       "      <th>label</th>\n",
       "    </tr>\n",
       "  </thead>\n",
       "  <tbody>\n",
       "    <tr>\n",
       "      <th>0</th>\n",
       "      <td>../data/Warp-C/train_crops\\bottle\\bottle-blue\\...</td>\n",
       "      <td>False</td>\n",
       "      <td>aecead9899399491</td>\n",
       "      <td>jpg</td>\n",
       "      <td>409</td>\n",
       "      <td>190</td>\n",
       "      <td>3</td>\n",
       "      <td>bottle-blue</td>\n",
       "    </tr>\n",
       "    <tr>\n",
       "      <th>1</th>\n",
       "      <td>../data/Warp-C/train_crops\\bottle\\bottle-blue\\...</td>\n",
       "      <td>False</td>\n",
       "      <td>94a724b1adbd4bc8</td>\n",
       "      <td>jpg</td>\n",
       "      <td>285</td>\n",
       "      <td>368</td>\n",
       "      <td>3</td>\n",
       "      <td>bottle-blue</td>\n",
       "    </tr>\n",
       "    <tr>\n",
       "      <th>2</th>\n",
       "      <td>../data/Warp-C/train_crops\\bottle\\bottle-blue\\...</td>\n",
       "      <td>False</td>\n",
       "      <td>96cc6b62978ec272</td>\n",
       "      <td>jpg</td>\n",
       "      <td>398</td>\n",
       "      <td>424</td>\n",
       "      <td>3</td>\n",
       "      <td>bottle-blue</td>\n",
       "    </tr>\n",
       "    <tr>\n",
       "      <th>3</th>\n",
       "      <td>../data/Warp-C/train_crops\\bottle\\bottle-blue\\...</td>\n",
       "      <td>False</td>\n",
       "      <td>cc8c2e3bd93469d2</td>\n",
       "      <td>jpg</td>\n",
       "      <td>375</td>\n",
       "      <td>239</td>\n",
       "      <td>3</td>\n",
       "      <td>bottle-blue</td>\n",
       "    </tr>\n",
       "    <tr>\n",
       "      <th>4</th>\n",
       "      <td>../data/Warp-C/train_crops\\bottle\\bottle-blue\\...</td>\n",
       "      <td>False</td>\n",
       "      <td>df4028ff2410eecb</td>\n",
       "      <td>jpg</td>\n",
       "      <td>212</td>\n",
       "      <td>324</td>\n",
       "      <td>3</td>\n",
       "      <td>bottle-blue</td>\n",
       "    </tr>\n",
       "  </tbody>\n",
       "</table>\n",
       "</div>"
      ],
      "text/plain": [
       "                                          image_path  corrupted  \\\n",
       "0  ../data/Warp-C/train_crops\\bottle\\bottle-blue\\...      False   \n",
       "1  ../data/Warp-C/train_crops\\bottle\\bottle-blue\\...      False   \n",
       "2  ../data/Warp-C/train_crops\\bottle\\bottle-blue\\...      False   \n",
       "3  ../data/Warp-C/train_crops\\bottle\\bottle-blue\\...      False   \n",
       "4  ../data/Warp-C/train_crops\\bottle\\bottle-blue\\...      False   \n",
       "\n",
       "         image_hash image_format  width  height  channels        label  \n",
       "0  aecead9899399491          jpg    409     190         3  bottle-blue  \n",
       "1  94a724b1adbd4bc8          jpg    285     368         3  bottle-blue  \n",
       "2  96cc6b62978ec272          jpg    398     424         3  bottle-blue  \n",
       "3  cc8c2e3bd93469d2          jpg    375     239         3  bottle-blue  \n",
       "4  df4028ff2410eecb          jpg    212     324         3  bottle-blue  "
      ]
     },
     "metadata": {},
     "output_type": "display_data"
    },
    {
     "name": "stdout",
     "output_type": "stream",
     "text": [
      "\n",
      "Total de imagens processadas: 8823\n",
      "Total de imagens corrompidas: 0\n",
      "Imagens corrompidas:\n",
      "[]\n"
     ]
    }
   ],
   "source": [
    "import os\n",
    "import pandas as pd\n",
    "import cv2\n",
    "from PIL import Image\n",
    "import imagehash\n",
    "import matplotlib.pyplot as plt\n",
    "from IPython.display import display\n",
    "\n",
    "root_dir = '../data/Warp-C/train_crops' # se estiver trabalhando com pasta local no vscode\n",
    "# root_dir = '/content/drive/MyDrive/data/Warp-C/train_crops' # se estiver trabalhando com pasta do google drive no google colab\n",
    "\n",
    "if not os.path.exists(root_dir):\n",
    "    raise FileNotFoundError(f\"Diretório não encontrado: {root_dir}. Verifique o caminho.\")\n",
    "\n",
    "count_corrupted = 0\n",
    "corrupted = []\n",
    "dataframe_list = []\n",
    "\n",
    "print(\"Iniciando a análise das imagens...\")\n",
    "\n",
    "try:\n",
    "    for main_folder in os.listdir(root_dir):\n",
    "        main_path = os.path.join(root_dir, main_folder)\n",
    "        if os.path.isdir(main_path):\n",
    "            for sub_folder in os.listdir(main_path):\n",
    "                sub_path = os.path.join(main_path, sub_folder)\n",
    "                if os.path.isdir(sub_path):\n",
    "                    for image in os.listdir(sub_path):\n",
    "                        img_path = os.path.join(sub_path, image)\n",
    "\n",
    "                        try:\n",
    "                            image_format = image.split('.')[-1].lower()\n",
    "                        except IndexError:\n",
    "                            image_format = None\n",
    "\n",
    "                        try:\n",
    "                            img = cv2.imread(img_path)\n",
    "                            if img is not None:\n",
    "                                img_rgb = cv2.cvtColor(img, cv2.COLOR_BGR2RGB)\n",
    "                                img_pil = Image.fromarray(img_rgb)\n",
    "                                img_hash = imagehash.phash(img_pil)\n",
    "                                width, height, channels = img.shape\n",
    "                                img_corrupted = False\n",
    "                            else:\n",
    "                                count_corrupted += 1\n",
    "                                corrupted.append(img_path)\n",
    "                                img_corrupted = True\n",
    "                                img_hash, width, height, channels = None, None, None, None\n",
    "                        except Exception:\n",
    "                            count_corrupted += 1\n",
    "                            corrupted.append(img_path)\n",
    "                            img_corrupted = True\n",
    "                            img_hash, width, height, channels = None, None, None, None\n",
    "                            print(f\"Erro ao processar {img_path}: {e}\")\n",
    "\n",
    "                        dataframe_list.append([\n",
    "                            img_path, img_corrupted, img_hash, image_format,\n",
    "                            width, height, channels, sub_folder\n",
    "                        ])\n",
    "\n",
    "except Exception as e:\n",
    "    print(f\"Ocorreu um erro na varredura das imagens: {e}\")\n",
    "    raise                        \n",
    "                        \n",
    "# Criando o DataFrame\n",
    "df = pd.DataFrame(dataframe_list, columns=[\n",
    "    'image_path', 'corrupted', 'image_hash', 'image_format',\n",
    "    'width', 'height', 'channels', 'label'\n",
    "])\n",
    "\n",
    "# df.head()\n",
    "display(df.head())\n",
    "\n",
    "#  Prints\n",
    "print(f\"\\nTotal de imagens processadas: {len(df)}\")\n",
    "print(f\"Total de imagens corrompidas: {count_corrupted}\")\n",
    "print(f\"Imagens corrompidas:\\n{corrupted}\")"
   ]
  },
  {
   "cell_type": "markdown",
   "metadata": {},
   "source": [
    "### 3. Verificar a Integridade dos Arquivos 🔍"
   ]
  },
  {
   "cell_type": "markdown",
   "metadata": {},
   "source": [
    "#### Documentação da análise de integridade dos arquivos no dataset:\n",
    "\n",
    "✔️ **Objetivo da Análise:**\n",
    "- Garantir a integridade dos arquivos do dataset, validando se:\n",
    "    - Todas as imagens listadas no arquivo de metadados (`DataFrame df`) realmente existem na pasta do dataset.\n",
    "    - Todas as imagens que estão na pasta também estão devidamente registradas no metadado.\n",
    "\n",
    "- Identificar possíveis problemas como arquivos ausentes, arquivos órfãos (que estão na pasta, mas não estão no metadado) ou inconsistências de caminho.\n",
    "\n",
    "🔧 **Metodologia:**\n",
    "- Comparação direta entre dois conjuntos:\n",
    "    - **Metadados:** Lista de caminhos absolutos das imagens presentes no DataFrame df.\n",
    "    - **Arquivos físicos:** Lista de caminhos absolutos de todos os arquivos encontrados na pasta `../data/Warp-C/train_crops` (ou caminho equivalente no ambiente utilizado).\n",
    "- Verificação de:\n",
    "    - Arquivos presentes no metadado e faltando na pasta.\n",
    "    - Arquivos presentes na pasta e faltando no metadado.\n",
    "\n",
    "📊 **Resultados Obtidos:**\n",
    "- Total de imagens no metadado: 8823\n",
    "- Total de imagens na pasta: 8823\n",
    "- Nenhuma inconsistência encontrada.\n",
    "- Todas as imagens listadas no metadado estão presentes na pasta.\n",
    "- Não existem imagens na pasta que estejam ausentes no metadado.\n",
    "\n",
    "✅ **Conclusões:**\n",
    "- O dataset está íntegro, consistente e validado em relação à correspondência entre os registros no arquivo de metadados e os arquivos físicos no diretório.\n",
    "- Nenhuma ação corretiva é necessária neste momento.\n",
    "\n",
    "🚩 **Recomendação:**\n",
    "- Manter essa validação de integridade como uma etapa padrão em todo pipeline de análise e pré-processamento de imagens.\n",
    "- Reexecutar esta validação sempre que o dataset for atualizado, complementado ou alterado.\n"
   ]
  },
  {
   "cell_type": "markdown",
   "metadata": {},
   "source": [
    "#### Validação de Consistência entre Metadados e Arquivos:"
   ]
  },
  {
   "cell_type": "code",
   "execution_count": null,
   "metadata": {},
   "outputs": [
    {
     "name": "stdout",
     "output_type": "stream",
     "text": [
      "Validação concluída!\n",
      "\n",
      "Total de imagens no metadado: 8823\n",
      "Total de imagens na pasta: 8823\n",
      "\n",
      "Todas as imagens do metadado existem na pasta.\n",
      "\n",
      "Todas as imagens na pasta estão devidamente listadas no metadado.\n"
     ]
    }
   ],
   "source": [
    "# Verificação se todas as imagens listadas no arquivo de informações realmente existem no diretório de imagens e vice-versa:\n",
    "\n",
    "from IPython.display import display\n",
    "import os\n",
    "\n",
    "try:\n",
    "    # verificar se o DataFrame df existe e não está vazio\n",
    "    if 'df' not in globals() or df.empty:\n",
    "        raise ValueError(\"O DataFrame 'df' não foi encontrado ou está vazio. Verifique se a etapa de criação do dataframe foi executada corretamente.\")\n",
    "\n",
    "    # verificar se a coluna 'image_path' existe no DataFrame\n",
    "    if 'image_path' not in df.columns:\n",
    "        raise KeyError(\"A coluna 'image_path' não existe no DataFrame.\")\n",
    "\n",
    "    # verificar se o diretório raiz existe\n",
    "    if not os.path.exists(root_dir):\n",
    "        raise FileNotFoundError(f\"O diretório {root_dir} não foi encontrado. Verifique se o caminho está correto.\")\n",
    "\n",
    "    # lista de imagens nos metadados\n",
    "    metadados_imagens = set(df['image_path'].apply(os.path.abspath))\n",
    "\n",
    "    # lista de imagens que estão fisicamente na pasta\n",
    "    arquivos_encontrados = set()\n",
    "\n",
    "    for root, dirs, files in os.walk(root_dir):\n",
    "        for file in files:\n",
    "            if file.lower().endswith(('.jpg', '.jpeg', '.png', '.svg')):\n",
    "                arquivos_encontrados.add(os.path.abspath(os.path.join(root, file)))\n",
    "\n",
    "    # verificar inconsistências\n",
    "    faltando_na_pasta = metadados_imagens - arquivos_encontrados\n",
    "    faltando_no_metadado = arquivos_encontrados - metadados_imagens\n",
    "\n",
    "    # exibir resultados\n",
    "    print('Validação concluída!')\n",
    "    print(f'\\nTotal de imagens no metadado: {len(metadados_imagens)}')\n",
    "    print(f'Total de imagens na pasta: {len(arquivos_encontrados)}')\n",
    "\n",
    "    if faltando_na_pasta:\n",
    "        print(f'\\n{len(faltando_na_pasta)} imagens estão no metadado, mas NÃO foram encontradas na pasta:')\n",
    "        display(list(faltando_na_pasta))\n",
    "    else:\n",
    "        print('\\nTodas as imagens do metadado existem na pasta.')\n",
    "\n",
    "    if faltando_no_metadado:\n",
    "        print(f'\\n{len(faltando_no_metadado)} imagens estão na pasta, mas NÃO estão listadas no metadado:')\n",
    "        display(list(faltando_no_metadado))\n",
    "    else:\n",
    "        print('\\nTodas as imagens na pasta estão devidamente listadas no metadado.')\n",
    "\n",
    "except ValueError as ve:\n",
    "    print(f\"Erro de Valor: {ve}\")\n",
    "\n",
    "except KeyError as ke:\n",
    "    print(f\"Erro de Chave: {ke}\")\n",
    "\n",
    "except FileNotFoundError as fnf:\n",
    "    print(f\"Erro de Arquivo: {fnf}\")\n",
    "\n",
    "except Exception as e:\n",
    "    print(f\"Ocorreu um erro inesperado: {e}\")"
   ]
  },
  {
   "cell_type": "markdown",
   "metadata": {},
   "source": [
    "#### Quantidade de imagens por formato:"
   ]
  },
  {
   "cell_type": "code",
   "execution_count": 4,
   "metadata": {},
   "outputs": [
    {
     "data": {
      "image/png": "[encoded data removed]",
      "text/plain": [
       "<Figure size 800x600 with 1 Axes>"
      ]
     },
     "metadata": {},
     "output_type": "display_data"
    }
   ],
   "source": [
    "# Verificação se todas as imagens estão no mesmo formato, ex: JPEG, PNG, etc:\n",
    "\n",
    "import matplotlib.pyplot as plt\n",
    "\n",
    "try:\n",
    "    # Verificar se o DataFrame existe e não está vazio\n",
    "    if 'df' not in globals():\n",
    "        raise NameError(\"O DataFrame 'df' não foi definido.\")\n",
    "    if df.empty:\n",
    "        raise ValueError(\"O DataFrame 'df' está vazio. Verifique se os dados foram carregados corretamente.\")\n",
    "\n",
    "    # Verificar se a coluna 'image_format' existe\n",
    "    if 'image_format' not in df.columns:\n",
    "        raise KeyError(\"A coluna 'image_format' não existe no DataFrame.\")\n",
    "\n",
    "    # Plotar gráfico\n",
    "    ax = df['image_format'].value_counts().plot(\n",
    "        kind='bar',\n",
    "        title='Number of Images per Format',\n",
    "        figsize=(8, 6)\n",
    "    )\n",
    "\n",
    "    plt.xticks(rotation=45)\n",
    "\n",
    "    # Adicionar valores em cima das barras\n",
    "    for p in ax.patches:\n",
    "        ax.annotate(\n",
    "            str(int(p.get_height())),\n",
    "            (p.get_x() + p.get_width() / 2, p.get_height()),\n",
    "            ha='center',\n",
    "            va='bottom',\n",
    "            fontsize=10\n",
    "        )\n",
    "\n",
    "    plt.show()\n",
    "\n",
    "except NameError as ne:\n",
    "    print(ne)\n",
    "\n",
    "except ValueError as ve:\n",
    "    print(ve)\n",
    "\n",
    "except KeyError as ke:\n",
    "    print(ke)\n",
    "\n",
    "except Exception as e:\n",
    "    print(f\"Ocorreu um erro inesperado: {e}\")"
   ]
  },
  {
   "cell_type": "markdown",
   "metadata": {},
   "source": [
    "### 4. Verificar a Consistência dos Metadados 🔧"
   ]
  },
  {
   "cell_type": "markdown",
   "metadata": {},
   "source": [
    "#### Documentação da análise de consistência dos metadados no dataset:\n",
    "\n",
    "✔️ **Objetivo da Análise:**\n",
    "\n",
    "\n",
    "\n",
    "\n",
    "🔧 **Metodologia:**\n",
    "\n",
    "\n",
    "\n",
    "\n",
    "📊 **Resultados Obtidos:**\n",
    "\n",
    "\n",
    "\n",
    "\n",
    "✅ **Conclusões:**\n",
    "\n",
    "\n",
    "\n",
    "\n",
    "🚩 **Recomendação:**\n"
   ]
  },
  {
   "cell_type": "markdown",
   "metadata": {},
   "source": [
    "#### Informações nulas:"
   ]
  },
  {
   "cell_type": "code",
   "execution_count": null,
   "metadata": {},
   "outputs": [],
   "source": [
    "# Verifique se há valores ausentes nos metadados e como esses casos são tratados:\n",
    "# Verificar informações nulas.\n",
    "# Gerar uma tabela com a quantidade de valores nulos por coluna no dataframe.\n",
    "# Verificar se há dados faltantes que precisam ser tratados."
   ]
  },
  {
   "cell_type": "markdown",
   "metadata": {},
   "source": [
    "#### Informações estatísticas dos valores de altura, largura e canais das imagens:"
   ]
  },
  {
   "cell_type": "code",
   "execution_count": null,
   "metadata": {},
   "outputs": [],
   "source": [
    "# Verifique valores inconsistentes, por exemplo: dimensões de imagens fora do esperado:\n",
    "# Exibir estatísticas:\n",
    "# Gerar estatísticas descritivas (mean, std, min, max) sobre: Largura (width), Altura (height), Canais (channels) etc\n",
    "# Verificar se existem padrões, outliers ou inconsistências nas dimensões etc"
   ]
  },
  {
   "cell_type": "markdown",
   "metadata": {},
   "source": [
    "#### Distribuição das dimensões (width x height):"
   ]
  },
  {
   "cell_type": "code",
   "execution_count": null,
   "metadata": {},
   "outputs": [],
   "source": [
    "# Verifique valores inconsistentes, por exemplo: dimensões de imagens fora do esperado:\n",
    "# Plotar o gráfico de dispersão:\n",
    "# Plotar um gráfico de dispersão (scatterplot) das dimensões (width x height).\n",
    "# Avaliar se as imagens possuem tamanhos muito variados ou padrões."
   ]
  },
  {
   "cell_type": "markdown",
   "metadata": {},
   "source": [
    "### 5. Analisar a Qualidade das Imagens 🧹"
   ]
  },
  {
   "cell_type": "markdown",
   "metadata": {},
   "source": [
    "#### Documentação da Análise de Consistência dos Metadados no Dataset:\n",
    "\n",
    "✔️ **Objetivo da Análise:**\n",
    "- Garantir que os metadados associados às imagens são completos, precisos e consistentes.\n",
    "\n",
    "🔧 **Metodologia:**\n",
    "- Verificação de valores nulos nos metadados para identificar quaisquer campos ausentes.\n",
    "- Comparação entre o número de imagens listadas nos metadados e o número real de arquivos no diretório para assegurar consistência.\n",
    "- Análise estatística dos atributos fornecidos, como dimensões de imagem, para detectar outliers ou valores inesperados.\n",
    "\n",
    "📊 **Resultados Obtidos:**\n",
    "- Nenhum valor nulo foi encontrado nos metadados.\n",
    "- O número de imagens nos metadados coincide com o número real de arquivos no disco.\n",
    "- As dimensões e outros atributos das imagens estão dentro das expectativas estabelecidas, sem outliers significativos.\n",
    "\n",
    "✅ **Conclusões:**\n",
    "- Os metadados são consistentes e refletem corretamente o estado do dataset.\n",
    "- A qualidade e a integridade dos metadados são adequadas para o uso em análises e modelo de treinamento.\n",
    "\n",
    "🚩 **Recomendação:**\n",
    "- Manter esta etapa de verificação no pipeline para garantir sempre a integridade dos dados.\n",
    "- Em casos de atualizações ou adições de novas imagens, re-executar esta análise para garantir a consistência contínua dos metadados."
   ]
  },
  {
   "cell_type": "markdown",
   "metadata": {},
   "source": [
    "#### Total de imagens corrompidas:"
   ]
  },
  {
   "cell_type": "code",
   "execution_count": 13,
   "metadata": {},
   "outputs": [
    {
     "name": "stdout",
     "output_type": "stream",
     "text": [
      "Total de imagens corrompidas: 0\n"
     ]
    }
   ],
   "source": [
    "import os\n",
    "from PIL import Image\n",
    "\n",
    "# Caminho para as imagens no conjunto de dados\n",
    "root_dir = '../data'  # Atualize conforme sua necessidade\n",
    "\n",
    "# Lista para armazenar imagens corrompidas\n",
    "corrupted_files = []\n",
    "\n",
    "# Itera sobre o DataFrame de metadados\n",
    "for _, row in df.iterrows():\n",
    "    try:\n",
    "        # Tentar abrir a imagem\n",
    "        img = Image.open(row['image_path'])\n",
    "        img.verify()  # Verifica imagem corrompida\n",
    "    except (IOError, SyntaxError) as e:\n",
    "        print(f\"Corrupted file: {row['image_path']}, {e}\")\n",
    "        corrupted_files.append(row['image_path'])\n",
    "\n",
    "print(f\"Total de imagens corrompidas: {len(corrupted_files)}\")"
   ]
  },
  {
   "cell_type": "markdown",
   "metadata": {},
   "source": [
    "#### Quantidade de imagens corrompidas e não corrompidas:"
   ]
  },
  {
   "cell_type": "code",
   "execution_count": 14,
   "metadata": {},
   "outputs": [
    {
     "data": {
      "image/png": "[encoded data removed]",
      "text/plain": [
       "<Figure size 800x500 with 1 Axes>"
      ]
     },
     "metadata": {},
     "output_type": "display_data"
    }
   ],
   "source": [
    "import matplotlib.pyplot as plt\n",
    "\n",
    "# Nomes das categorias\n",
    "labels = ['Válidas', 'Corrompidas']\n",
    "\n",
    "# Quantidades respectivas\n",
    "quantidades = [len(df) - len(corrupted_files), len(corrupted_files)]\n",
    "\n",
    "# Criar o gráfico de barras\n",
    "plt.figure(figsize=(8, 5))\n",
    "plt.bar(labels, quantidades, color=['#4CAF50', '#FF6347'])\n",
    "plt.title('Quantidade de Imagens Válidas e Corrompidas')\n",
    "plt.ylabel('Número de Imagens')\n",
    "\n",
    "# Adicionar rótulos em cima das barras\n",
    "for i, quantidade in enumerate(quantidades):\n",
    "    plt.text(i, quantidade + 0.5, str(quantidade), ha='center')\n",
    "\n",
    "plt.show()"
   ]
  },
  {
   "cell_type": "markdown",
   "metadata": {},
   "source": [
    "### 6. Verificar a Distribuição das Classes 📊 "
   ]
  },
  {
   "cell_type": "markdown",
   "metadata": {},
   "source": [
    "#### Documentação da análise de distribuição das classes no dataset:\n",
    "\n",
    "✔️ **Objetivo da Análise:**\n",
    "\n",
    "\n",
    "\n",
    "\n",
    "🔧 **Metodologia:**\n",
    "\n",
    "\n",
    "\n",
    "\n",
    "📊 **Resultados Obtidos:**\n",
    "\n",
    "\n",
    "\n",
    "\n",
    "✅ **Conclusões:**\n",
    "\n",
    "\n",
    "\n",
    "\n",
    "🚩 **Recomendação:**\n",
    "\n"
   ]
  },
  {
   "cell_type": "code",
   "execution_count": null,
   "metadata": {},
   "outputs": [],
   "source": [
    "# Plotar gráfico da distribuição das classes:\n",
    "# Gerar um gráfico de barras com a quantidade de imagens por classe.\n",
    "# Avaliar se há desequilíbrio nas classes, o que pode impactar o treinamento de modelos."
   ]
  },
  {
   "cell_type": "markdown",
   "metadata": {},
   "source": [
    "### 7. Verificar a Presença de Duplicatas 🧠 "
   ]
  },
  {
   "cell_type": "markdown",
   "metadata": {},
   "source": [
    "#### Documentação da análise de duplicatas no dataset:\n",
    "\n",
    "✔️ **Objetivo da Análise:**\n",
    "- Identificar imagens duplicadas que possam enviesar os resultados dos modelos de Machine Learning.\n",
    "- Verificar a presença de duplicatas tanto no conjunto de arquivos físicos quanto no arquivo de metadados.\n",
    "\n",
    "🔧 **Metodologia Utilizada:**\n",
    "- Aplicação de um **hash perceptual** `(imagehash.phash())` para cada imagem do dataset. Este método permite detectar imagens visualmente idênticas, mesmo que possuam diferenças nos nomes ou tamanhos dos arquivos.\n",
    "\n",
    "- Verificação de:\n",
    "    - Quantidade de hashes duplicados no dataframe (`df`).\n",
    "    - Visualização dos registros duplicados no dataframe, caso existissem.\n",
    "    - Exibição visual lado a lado das imagens duplicadas, se presentes.\n",
    "    - Análise da distribuição das duplicatas por classe, caso fossem encontradas.\n",
    "\n",
    "📊 **Resultados Obtidos:**\n",
    "- Quantidade de Duplicatas: 0\n",
    "- Nenhuma imagem duplicada foi identificada no dataset.\n",
    "- O gráfico de duplicatas por classe não foi gerado, pois não existem duplicatas.\n",
    "\n",
    "✅ **Conclusões:**\n",
    "- O dataset está livre de duplicatas visuais perceptíveis.\n",
    "- Não há necessidade de realizar ações como remoção, substituição ou tratamento de imagens duplicadas.\n",
    "- Este resultado assegura que não há risco de enviesamento ou sobre-representação de exemplos que poderiam impactar negativamente o desempenho dos modelos.\n",
    "\n",
    "🚩 **Recomendações Futuras:**\n",
    "- Incluir esta verificação de duplicatas como uma etapa padrão no pipeline de validação de dados para qualquer novo dataset."
   ]
  },
  {
   "cell_type": "markdown",
   "metadata": {},
   "source": [
    "#### Quantidade de duplicatas:"
   ]
  },
  {
   "cell_type": "code",
   "execution_count": null,
   "metadata": {},
   "outputs": [
    {
     "name": "stdout",
     "output_type": "stream",
     "text": [
      "Quantidade de imagens duplicadas gerada com sucesso!\n"
     ]
    },
    {
     "data": {
      "text/plain": [
       "0"
      ]
     },
     "metadata": {},
     "output_type": "display_data"
    }
   ],
   "source": [
    "# Identificar imagens duplicadas que possam enviesar os resultados:\n",
    "\n",
    "from IPython.display import display\n",
    "\n",
    "try:\n",
    "    # Verificar se o DataFrame existe e não está vazio\n",
    "    if 'df' not in globals():\n",
    "        raise NameError(\"O DataFrame 'df' não foi definido.\")\n",
    "    if df.empty:\n",
    "        raise ValueError(\"O DataFrame 'df' está vazio. Verifique se os dados foram carregados corretamente.\")\n",
    "\n",
    "    # Verificar se a coluna 'image_hash' existe\n",
    "    if 'image_hash' not in df.columns:\n",
    "        raise KeyError(\"A coluna 'image_hash' não existe no DataFrame.\")\n",
    "\n",
    "    # Calcular quantidade de duplicatas\n",
    "    num_duplicatas = df['image_hash'].duplicated().sum()\n",
    "\n",
    "    print(f\"Quantidade de imagens duplicadas gerada com sucesso!\")\n",
    "    display(num_duplicatas)\n",
    "\n",
    "except NameError as ne:\n",
    "    print(ne)\n",
    "\n",
    "except ValueError as ve:\n",
    "    print(ve)\n",
    "\n",
    "except KeyError as ke:\n",
    "    print(ke)\n",
    "\n",
    "except Exception as e:\n",
    "    print(f\"Ocorreu um erro inesperado: {e}\")\n",
    "\n"
   ]
  },
  {
   "cell_type": "markdown",
   "metadata": {},
   "source": [
    "#### Visualizar duplicatas:"
   ]
  },
  {
   "cell_type": "code",
   "execution_count": null,
   "metadata": {},
   "outputs": [
    {
     "name": "stdout",
     "output_type": "stream",
     "text": [
      "Nenhuma imagem duplicada foi encontrada no dataset.\n"
     ]
    }
   ],
   "source": [
    "# Verificar duplicatas no arquivo de informações:\n",
    "\n",
    "\n",
    "from IPython.display import display\n",
    "\n",
    "try:\n",
    "    # Verificar se o DataFrame existe\n",
    "    if 'df' not in globals():\n",
    "        raise NameError(\"O DataFrame 'df' não foi definido.\")\n",
    "\n",
    "    # Verificar se o DataFrame não está vazio\n",
    "    if df.empty:\n",
    "        raise ValueError(\"O DataFrame 'df' está vazio. Verifique se os dados foram carregados corretamente.\")\n",
    "\n",
    "    # Verificar se a coluna 'image_hash' existe\n",
    "    if 'image_hash' not in df.columns:\n",
    "        raise KeyError(\"A coluna 'image_hash' não existe no DataFrame.\")\n",
    "\n",
    "    # Filtrar imagens com hashes duplicados (mantém todas as ocorrências)\n",
    "    df_duplicated = df[df['image_hash'].duplicated(keep=False)]\n",
    "\n",
    "    # Verificar e exibir duplicatas, se houver\n",
    "    if not df_duplicated.empty:\n",
    "        print(f\"Foram encontradas {df_duplicated.shape[0]} imagens duplicadas.\")\n",
    "        display(df_duplicated)\n",
    "    else:\n",
    "        print(\"Nenhuma imagem duplicada foi encontrada no dataset.\")\n",
    "\n",
    "except NameError as ne:\n",
    "    print(ne)\n",
    "\n",
    "except ValueError as ve:\n",
    "    print(ve)\n",
    "\n",
    "except KeyError as ke:\n",
    "    print(ke)\n",
    "\n",
    "except Exception as e:\n",
    "    print(f\"Ocorreu um erro inesperado: {e}\")\n"
   ]
  },
  {
   "cell_type": "markdown",
   "metadata": {},
   "source": [
    "#### Exibir imagens duplicadas:"
   ]
  },
  {
   "cell_type": "code",
   "execution_count": null,
   "metadata": {},
   "outputs": [
    {
     "name": "stdout",
     "output_type": "stream",
     "text": [
      "Nenhuma imagem duplicada foi encontrada no dataset.\n"
     ]
    }
   ],
   "source": [
    "# Verificar duplicatas no arquivo de informações:\n",
    "\n",
    "import cv2\n",
    "import matplotlib.pyplot as plt\n",
    "from IPython.display import display\n",
    "from PIL import Image\n",
    "import os\n",
    "\n",
    "try:\n",
    "    # Verificações iniciais\n",
    "    if 'df' not in globals() or df.empty:\n",
    "        raise ValueError(\"O DataFrame 'df' não foi encontrado ou está vazio.\")\n",
    "\n",
    "    if 'df_duplicated' not in globals() or df_duplicated.empty:\n",
    "        raise ValueError(\"Nenhuma imagem duplicada foi encontrada no dataset.\")\n",
    "\n",
    "    if 'image_hash' not in df.columns or 'image_path' not in df.columns:\n",
    "        raise KeyError(\"As colunas necessárias 'image_hash' ou 'image_path' não existem no DataFrame.\")\n",
    "\n",
    "    # Criar dicionário de imagens duplicadas\n",
    "    duplicated_images = {}\n",
    "    for i in range(df_duplicated.shape[0]):\n",
    "        hash_duplicated = df_duplicated.iloc[i]['image_hash']\n",
    "        duplicated = df[df['image_hash'] == hash_duplicated][\"image_path\"].values\n",
    "        duplicated_images[str(hash_duplicated)] = duplicated.tolist()\n",
    "\n",
    "    # Verificar e exibir duplicatas\n",
    "    if duplicated_images:\n",
    "        display(duplicated_images)  # Mostrar o dicionário de duplicatas\n",
    "\n",
    "        for hash_value, paths in duplicated_images.items():\n",
    "            print(f\"\\nHash duplicado: {hash_value}\")\n",
    "            print(f\"{len(paths)} imagens duplicadas encontradas:\\n\", paths)\n",
    "\n",
    "            fig, axes = plt.subplots(1, len(paths), figsize=(5 * len(paths), 5))\n",
    "            if len(paths) == 1:\n",
    "                axes = [axes]  # Garante que seja iterável se só tiver uma imagem\n",
    "\n",
    "            for ax, img_path in zip(axes, paths):\n",
    "                if os.path.exists(img_path):\n",
    "                    img = cv2.imread(img_path)\n",
    "                    if img is not None:\n",
    "                        img_rgb = cv2.cvtColor(img, cv2.COLOR_BGR2RGB)\n",
    "                        ax.imshow(img_rgb)\n",
    "                        ax.set_title(os.path.basename(img_path))\n",
    "                        ax.axis('off')\n",
    "                    else:\n",
    "                        ax.text(0.5, 0.5, \"Imagem não pode ser carregada\",\n",
    "                                horizontalalignment='center',\n",
    "                                verticalalignment='center')\n",
    "                        ax.axis('off')\n",
    "                else:\n",
    "                    ax.text(0.5, 0.5, \"Caminho não encontrado\",\n",
    "                            horizontalalignment='center',\n",
    "                            verticalalignment='center')\n",
    "                    ax.axis('off')\n",
    "\n",
    "            plt.show()\n",
    "\n",
    "    else:\n",
    "        print(\"Nenhuma imagem duplicada foi encontrada no dataset.\")\n",
    "\n",
    "except ValueError as ve:\n",
    "    print(ve)\n",
    "\n",
    "except KeyError as ke:\n",
    "    print(ke)\n",
    "\n",
    "except Exception as e:\n",
    "    print(f\"Ocorreu um erro inesperado: {e}\")\n"
   ]
  },
  {
   "cell_type": "markdown",
   "metadata": {},
   "source": [
    "#### Gráficos de Duplicatas por Classe:"
   ]
  },
  {
   "cell_type": "code",
   "execution_count": null,
   "metadata": {},
   "outputs": [
    {
     "name": "stdout",
     "output_type": "stream",
     "text": [
      "Nenhuma duplicata encontrada no dataset.\n"
     ]
    }
   ],
   "source": [
    "import matplotlib.pyplot as plt\n",
    "\n",
    "try:\n",
    "    # Verifica se o DataFrame df_duplicated existe e não está vazio\n",
    "    if 'df_duplicated' not in globals() or df_duplicated.empty:\n",
    "        raise ValueError(\"Nenhuma duplicata encontrada no dataset.\")\n",
    "\n",
    "    # Verifica se a coluna 'label' existe\n",
    "    if 'label' not in df_duplicated.columns:\n",
    "        raise KeyError(\"A coluna 'label' não existe no DataFrame.\")\n",
    "\n",
    "    # Agrupar duplicatas por classe\n",
    "    duplicates_by_class = df_duplicated.groupby('label').size()\n",
    "\n",
    "    if not duplicates_by_class.empty:\n",
    "        ax = duplicates_by_class.plot(\n",
    "            kind='bar',\n",
    "            title='Number of Duplicates per Class',\n",
    "            figsize=(8, 6)\n",
    "        )\n",
    "        plt.xticks(rotation=45)\n",
    "        for p in ax.patches:\n",
    "            ax.annotate(\n",
    "                str(int(p.get_height())),\n",
    "                (p.get_x() + p.get_width() / 2, p.get_height()),\n",
    "                ha='center'\n",
    "            )\n",
    "        plt.show()\n",
    "    else:\n",
    "        print(\"Nenhuma duplicata encontrada. Gráfico não gerado.\")\n",
    "\n",
    "except ValueError as ve:\n",
    "    print(ve)\n",
    "\n",
    "except KeyError as ke:\n",
    "    print(ke)\n",
    "\n",
    "except Exception as e:\n",
    "    print(f\"Ocorreu um erro inesperado: {e}\")\n"
   ]
  }
 ],
 "metadata": {
  "kernelspec": {
   "display_name": ".venv",
   "language": "python",
   "name": "python3"
  },
  "language_info": {
   "codemirror_mode": {
    "name": "ipython",
    "version": 3
   },
   "file_extension": ".py",
   "mimetype": "text/x-python",
   "name": "python",
   "nbconvert_exporter": "python",
   "pygments_lexer": "ipython3",
   "version": "3.12.6"
  },
  "orig_nbformat": 4
 },
 "nbformat": 4,
 "nbformat_minor": 2
}
