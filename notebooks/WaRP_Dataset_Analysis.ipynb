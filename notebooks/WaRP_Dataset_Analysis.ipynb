{
 "cells": [
  {
   "cell_type": "markdown",
   "metadata": {},
   "source": [
    "# **Projeto WaRP - Waste Recycling Plant**"
   ]
  },
  {
   "cell_type": "markdown",
   "metadata": {},
   "source": [
    "## **Etapa 1 - Análise do Dataset**"
   ]
  },
  {
   "cell_type": "markdown",
   "metadata": {},
   "source": [
    "### 🧠 Instalação dos pacotes necessários"
   ]
  },
  {
   "cell_type": "code",
   "execution_count": 1,
   "metadata": {},
   "outputs": [
    {
     "name": "stdout",
     "output_type": "stream",
     "text": [
      "Requirement already satisfied: opendatasets in c:\\users\\administrador\\onedrive\\área de trabalho\\warp-waste-recycling-plant\\warp-waste-classification\\venv\\lib\\site-packages (0.1.22)\n",
      "Requirement already satisfied: tqdm in c:\\users\\administrador\\onedrive\\área de trabalho\\warp-waste-recycling-plant\\warp-waste-classification\\venv\\lib\\site-packages (from opendatasets) (4.66.4)\n",
      "Requirement already satisfied: kaggle in c:\\users\\administrador\\onedrive\\área de trabalho\\warp-waste-recycling-plant\\warp-waste-classification\\venv\\lib\\site-packages (from opendatasets) (1.7.4.5)\n",
      "Requirement already satisfied: click in c:\\users\\administrador\\onedrive\\área de trabalho\\warp-waste-recycling-plant\\warp-waste-classification\\venv\\lib\\site-packages (from opendatasets) (8.2.1)\n",
      "Requirement already satisfied: colorama in c:\\users\\administrador\\onedrive\\área de trabalho\\warp-waste-recycling-plant\\warp-waste-classification\\venv\\lib\\site-packages (from click->opendatasets) (0.4.6)\n",
      "Requirement already satisfied: bleach in c:\\users\\administrador\\onedrive\\área de trabalho\\warp-waste-recycling-plant\\warp-waste-classification\\venv\\lib\\site-packages (from kaggle->opendatasets) (6.2.0)\n",
      "Requirement already satisfied: certifi>=14.05.14 in c:\\users\\administrador\\onedrive\\área de trabalho\\warp-waste-recycling-plant\\warp-waste-classification\\venv\\lib\\site-packages (from kaggle->opendatasets) (2025.6.15)\n",
      "Requirement already satisfied: charset-normalizer in c:\\users\\administrador\\onedrive\\área de trabalho\\warp-waste-recycling-plant\\warp-waste-classification\\venv\\lib\\site-packages (from kaggle->opendatasets) (3.4.2)\n",
      "Requirement already satisfied: idna in c:\\users\\administrador\\onedrive\\área de trabalho\\warp-waste-recycling-plant\\warp-waste-classification\\venv\\lib\\site-packages (from kaggle->opendatasets) (3.10)\n",
      "Requirement already satisfied: protobuf in c:\\users\\administrador\\onedrive\\área de trabalho\\warp-waste-recycling-plant\\warp-waste-classification\\venv\\lib\\site-packages (from kaggle->opendatasets) (4.25.8)\n",
      "Requirement already satisfied: python-dateutil>=2.5.3 in c:\\users\\administrador\\onedrive\\área de trabalho\\warp-waste-recycling-plant\\warp-waste-classification\\venv\\lib\\site-packages (from kaggle->opendatasets) (2.9.0.post0)\n",
      "Requirement already satisfied: python-slugify in c:\\users\\administrador\\onedrive\\área de trabalho\\warp-waste-recycling-plant\\warp-waste-classification\\venv\\lib\\site-packages (from kaggle->opendatasets) (8.0.4)\n",
      "Requirement already satisfied: requests in c:\\users\\administrador\\onedrive\\área de trabalho\\warp-waste-recycling-plant\\warp-waste-classification\\venv\\lib\\site-packages (from kaggle->opendatasets) (2.32.4)\n",
      "Requirement already satisfied: setuptools>=21.0.0 in c:\\users\\administrador\\onedrive\\área de trabalho\\warp-waste-recycling-plant\\warp-waste-classification\\venv\\lib\\site-packages (from kaggle->opendatasets) (80.9.0)\n",
      "Requirement already satisfied: six>=1.10 in c:\\users\\administrador\\onedrive\\área de trabalho\\warp-waste-recycling-plant\\warp-waste-classification\\venv\\lib\\site-packages (from kaggle->opendatasets) (1.17.0)\n",
      "Requirement already satisfied: text-unidecode in c:\\users\\administrador\\onedrive\\área de trabalho\\warp-waste-recycling-plant\\warp-waste-classification\\venv\\lib\\site-packages (from kaggle->opendatasets) (1.3)\n",
      "Requirement already satisfied: urllib3>=1.15.1 in c:\\users\\administrador\\onedrive\\área de trabalho\\warp-waste-recycling-plant\\warp-waste-classification\\venv\\lib\\site-packages (from kaggle->opendatasets) (2.5.0)\n",
      "Requirement already satisfied: webencodings in c:\\users\\administrador\\onedrive\\área de trabalho\\warp-waste-recycling-plant\\warp-waste-classification\\venv\\lib\\site-packages (from kaggle->opendatasets) (0.5.1)\n",
      "Note: you may need to restart the kernel to use updated packages.\n",
      "Requirement already satisfied: pandas in c:\\users\\administrador\\onedrive\\área de trabalho\\warp-waste-recycling-plant\\warp-waste-classification\\venv\\lib\\site-packages (2.2.2)\n",
      "Requirement already satisfied: numpy>=1.26.0 in c:\\users\\administrador\\onedrive\\área de trabalho\\warp-waste-recycling-plant\\warp-waste-classification\\venv\\lib\\site-packages (from pandas) (1.26.4)\n",
      "Requirement already satisfied: python-dateutil>=2.8.2 in c:\\users\\administrador\\onedrive\\área de trabalho\\warp-waste-recycling-plant\\warp-waste-classification\\venv\\lib\\site-packages (from pandas) (2.9.0.post0)\n",
      "Requirement already satisfied: pytz>=2020.1 in c:\\users\\administrador\\onedrive\\área de trabalho\\warp-waste-recycling-plant\\warp-waste-classification\\venv\\lib\\site-packages (from pandas) (2025.2)\n",
      "Requirement already satisfied: tzdata>=2022.7 in c:\\users\\administrador\\onedrive\\área de trabalho\\warp-waste-recycling-plant\\warp-waste-classification\\venv\\lib\\site-packages (from pandas) (2025.2)\n",
      "Requirement already satisfied: six>=1.5 in c:\\users\\administrador\\onedrive\\área de trabalho\\warp-waste-recycling-plant\\warp-waste-classification\\venv\\lib\\site-packages (from python-dateutil>=2.8.2->pandas) (1.17.0)\n",
      "Note: you may need to restart the kernel to use updated packages.\n",
      "Requirement already satisfied: imagehash in c:\\users\\administrador\\onedrive\\área de trabalho\\warp-waste-recycling-plant\\warp-waste-classification\\venv\\lib\\site-packages (4.3.1)\n",
      "Requirement already satisfied: PyWavelets in c:\\users\\administrador\\onedrive\\área de trabalho\\warp-waste-recycling-plant\\warp-waste-classification\\venv\\lib\\site-packages (from imagehash) (1.8.0)\n",
      "Requirement already satisfied: numpy in c:\\users\\administrador\\onedrive\\área de trabalho\\warp-waste-recycling-plant\\warp-waste-classification\\venv\\lib\\site-packages (from imagehash) (1.26.4)\n",
      "Requirement already satisfied: pillow in c:\\users\\administrador\\onedrive\\área de trabalho\\warp-waste-recycling-plant\\warp-waste-classification\\venv\\lib\\site-packages (from imagehash) (10.3.0)\n",
      "Requirement already satisfied: scipy in c:\\users\\administrador\\onedrive\\área de trabalho\\warp-waste-recycling-plant\\warp-waste-classification\\venv\\lib\\site-packages (from imagehash) (1.15.3)\n",
      "Note: you may need to restart the kernel to use updated packages.\n",
      "Requirement already satisfied: matplotlib in c:\\users\\administrador\\onedrive\\área de trabalho\\warp-waste-recycling-plant\\warp-waste-classification\\venv\\lib\\site-packages (3.8.4)\n",
      "Requirement already satisfied: contourpy>=1.0.1 in c:\\users\\administrador\\onedrive\\área de trabalho\\warp-waste-recycling-plant\\warp-waste-classification\\venv\\lib\\site-packages (from matplotlib) (1.3.2)\n",
      "Requirement already satisfied: cycler>=0.10 in c:\\users\\administrador\\onedrive\\área de trabalho\\warp-waste-recycling-plant\\warp-waste-classification\\venv\\lib\\site-packages (from matplotlib) (0.12.1)\n",
      "Requirement already satisfied: fonttools>=4.22.0 in c:\\users\\administrador\\onedrive\\área de trabalho\\warp-waste-recycling-plant\\warp-waste-classification\\venv\\lib\\site-packages (from matplotlib) (4.58.4)\n",
      "Requirement already satisfied: kiwisolver>=1.3.1 in c:\\users\\administrador\\onedrive\\área de trabalho\\warp-waste-recycling-plant\\warp-waste-classification\\venv\\lib\\site-packages (from matplotlib) (1.4.8)\n",
      "Requirement already satisfied: numpy>=1.21 in c:\\users\\administrador\\onedrive\\área de trabalho\\warp-waste-recycling-plant\\warp-waste-classification\\venv\\lib\\site-packages (from matplotlib) (1.26.4)\n",
      "Requirement already satisfied: packaging>=20.0 in c:\\users\\administrador\\onedrive\\área de trabalho\\warp-waste-recycling-plant\\warp-waste-classification\\venv\\lib\\site-packages (from matplotlib) (25.0)\n",
      "Requirement already satisfied: pillow>=8 in c:\\users\\administrador\\onedrive\\área de trabalho\\warp-waste-recycling-plant\\warp-waste-classification\\venv\\lib\\site-packages (from matplotlib) (10.3.0)\n",
      "Requirement already satisfied: pyparsing>=2.3.1 in c:\\users\\administrador\\onedrive\\área de trabalho\\warp-waste-recycling-plant\\warp-waste-classification\\venv\\lib\\site-packages (from matplotlib) (3.2.3)\n",
      "Requirement already satisfied: python-dateutil>=2.7 in c:\\users\\administrador\\onedrive\\área de trabalho\\warp-waste-recycling-plant\\warp-waste-classification\\venv\\lib\\site-packages (from matplotlib) (2.9.0.post0)\n",
      "Requirement already satisfied: six>=1.5 in c:\\users\\administrador\\onedrive\\área de trabalho\\warp-waste-recycling-plant\\warp-waste-classification\\venv\\lib\\site-packages (from python-dateutil>=2.7->matplotlib) (1.17.0)\n",
      "Note: you may need to restart the kernel to use updated packages.\n",
      "Requirement already satisfied: opencv-python in c:\\users\\administrador\\onedrive\\área de trabalho\\warp-waste-recycling-plant\\warp-waste-classification\\venv\\lib\\site-packages (4.9.0.80)\n",
      "Requirement already satisfied: numpy>=1.21.2 in c:\\users\\administrador\\onedrive\\área de trabalho\\warp-waste-recycling-plant\\warp-waste-classification\\venv\\lib\\site-packages (from opencv-python) (1.26.4)\n",
      "Note: you may need to restart the kernel to use updated packages.\n",
      "Requirement already satisfied: pillow in c:\\users\\administrador\\onedrive\\área de trabalho\\warp-waste-recycling-plant\\warp-waste-classification\\venv\\lib\\site-packages (10.3.0)\n",
      "Note: you may need to restart the kernel to use updated packages.\n",
      "Requirement already satisfied: kaggle in c:\\users\\administrador\\onedrive\\área de trabalho\\warp-waste-recycling-plant\\warp-waste-classification\\venv\\lib\\site-packages (1.7.4.5)\n",
      "Requirement already satisfied: bleach in c:\\users\\administrador\\onedrive\\área de trabalho\\warp-waste-recycling-plant\\warp-waste-classification\\venv\\lib\\site-packages (from kaggle) (6.2.0)\n",
      "Requirement already satisfied: certifi>=14.05.14 in c:\\users\\administrador\\onedrive\\área de trabalho\\warp-waste-recycling-plant\\warp-waste-classification\\venv\\lib\\site-packages (from kaggle) (2025.6.15)\n",
      "Requirement already satisfied: charset-normalizer in c:\\users\\administrador\\onedrive\\área de trabalho\\warp-waste-recycling-plant\\warp-waste-classification\\venv\\lib\\site-packages (from kaggle) (3.4.2)\n",
      "Requirement already satisfied: idna in c:\\users\\administrador\\onedrive\\área de trabalho\\warp-waste-recycling-plant\\warp-waste-classification\\venv\\lib\\site-packages (from kaggle) (3.10)\n",
      "Requirement already satisfied: protobuf in c:\\users\\administrador\\onedrive\\área de trabalho\\warp-waste-recycling-plant\\warp-waste-classification\\venv\\lib\\site-packages (from kaggle) (4.25.8)\n",
      "Requirement already satisfied: python-dateutil>=2.5.3 in c:\\users\\administrador\\onedrive\\área de trabalho\\warp-waste-recycling-plant\\warp-waste-classification\\venv\\lib\\site-packages (from kaggle) (2.9.0.post0)\n",
      "Requirement already satisfied: python-slugify in c:\\users\\administrador\\onedrive\\área de trabalho\\warp-waste-recycling-plant\\warp-waste-classification\\venv\\lib\\site-packages (from kaggle) (8.0.4)\n",
      "Requirement already satisfied: requests in c:\\users\\administrador\\onedrive\\área de trabalho\\warp-waste-recycling-plant\\warp-waste-classification\\venv\\lib\\site-packages (from kaggle) (2.32.4)\n",
      "Requirement already satisfied: setuptools>=21.0.0 in c:\\users\\administrador\\onedrive\\área de trabalho\\warp-waste-recycling-plant\\warp-waste-classification\\venv\\lib\\site-packages (from kaggle) (80.9.0)\n",
      "Requirement already satisfied: six>=1.10 in c:\\users\\administrador\\onedrive\\área de trabalho\\warp-waste-recycling-plant\\warp-waste-classification\\venv\\lib\\site-packages (from kaggle) (1.17.0)\n",
      "Requirement already satisfied: text-unidecode in c:\\users\\administrador\\onedrive\\área de trabalho\\warp-waste-recycling-plant\\warp-waste-classification\\venv\\lib\\site-packages (from kaggle) (1.3)\n",
      "Requirement already satisfied: tqdm in c:\\users\\administrador\\onedrive\\área de trabalho\\warp-waste-recycling-plant\\warp-waste-classification\\venv\\lib\\site-packages (from kaggle) (4.66.4)\n",
      "Requirement already satisfied: urllib3>=1.15.1 in c:\\users\\administrador\\onedrive\\área de trabalho\\warp-waste-recycling-plant\\warp-waste-classification\\venv\\lib\\site-packages (from kaggle) (2.5.0)\n",
      "Requirement already satisfied: webencodings in c:\\users\\administrador\\onedrive\\área de trabalho\\warp-waste-recycling-plant\\warp-waste-classification\\venv\\lib\\site-packages (from kaggle) (0.5.1)\n",
      "Requirement already satisfied: colorama in c:\\users\\administrador\\onedrive\\área de trabalho\\warp-waste-recycling-plant\\warp-waste-classification\\venv\\lib\\site-packages (from tqdm->kaggle) (0.4.6)\n",
      "Note: you may need to restart the kernel to use updated packages.\n"
     ]
    }
   ],
   "source": [
    "%pip install opendatasets\n",
    "%pip install pandas\n",
    "%pip install imagehash\n",
    "%pip install matplotlib\n",
    "%pip install opencv-python\n",
    "%pip install pillow\n",
    "%pip install kaggle\n"
   ]
  },
  {
   "cell_type": "markdown",
   "metadata": {},
   "source": [
    "### 1. Download do Dataset 🚀"
   ]
  },
  {
   "cell_type": "code",
   "execution_count": 31,
   "metadata": {},
   "outputs": [
    {
     "name": "stdout",
     "output_type": "stream",
     "text": [
      "Autenticando com a API do Kaggle...\n",
      "Iniciando o download do dataset...\n",
      "Dataset URL: https://www.kaggle.com/datasets/parohod/warp-waste-recycling-plant-dataset\n",
      "Download concluído com sucesso!\n"
     ]
    }
   ],
   "source": [
    "# os arquivos serão salvos na pasta \"data\"\n",
    "\n",
    "# Configuração das credenciais\n",
    "# O arquivo kaggle.json deve estar salvo em C:/Users/SeuUsuario/.kaggle/kaggle.json\n",
    "import os\n",
    "from kaggle.api.kaggle_api_extended import KaggleApi\n",
    "\n",
    "# Verificar se o arquivo kaggle.json existe no caminho padrão\n",
    "kaggle_path = os.path.expanduser('~/.kaggle/kaggle.json')\n",
    "if not os.path.exists(kaggle_path):\n",
    "    raise FileNotFoundError(f\"Arquivo kaggle.json não encontrado em {kaggle_path}. Verifique se está salvo corretamente.\")\n",
    "\n",
    "# Verificar ou criar a pasta de destino\n",
    "download_path = '../data'\n",
    "if not os.path.exists(download_path):\n",
    "    os.makedirs(download_path)\n",
    "    print(f\"Pasta {download_path} criada com sucesso!\")\n",
    "\n",
    "# Fazer download do dataset\n",
    "try:\n",
    "    print(\"Autenticando com a API do Kaggle...\")\n",
    "    api = KaggleApi()\n",
    "    api.authenticate()\n",
    "\n",
    "    print(\"Iniciando o download do dataset...\")\n",
    "    api.dataset_download_files(\n",
    "        'parohod/warp-waste-recycling-plant-dataset',\n",
    "        path=download_path,\n",
    "        unzip=True\n",
    "    )\n",
    "\n",
    "    print(\"Download concluído com sucesso!\")\n",
    "\n",
    "except Exception as e:\n",
    "    print(f\"Ocorreu um erro durante o download: {e}\")"
   ]
  },
  {
   "cell_type": "markdown",
   "metadata": {},
   "source": [
    "### 2. Criação do DataFrame de Metadados 📂"
   ]
  },
  {
   "cell_type": "code",
   "execution_count": 32,
   "metadata": {},
   "outputs": [
    {
     "name": "stdout",
     "output_type": "stream",
     "text": [
      "Iniciando a análise das imagens...\n"
     ]
    },
    {
     "data": {
      "text/html": [
       "<div>\n",
       "<style scoped>\n",
       "    .dataframe tbody tr th:only-of-type {\n",
       "        vertical-align: middle;\n",
       "    }\n",
       "\n",
       "    .dataframe tbody tr th {\n",
       "        vertical-align: top;\n",
       "    }\n",
       "\n",
       "    .dataframe thead th {\n",
       "        text-align: right;\n",
       "    }\n",
       "</style>\n",
       "<table border=\"1\" class=\"dataframe\">\n",
       "  <thead>\n",
       "    <tr style=\"text-align: right;\">\n",
       "      <th></th>\n",
       "      <th>image_path</th>\n",
       "      <th>corrupted</th>\n",
       "      <th>image_hash</th>\n",
       "      <th>image_format</th>\n",
       "      <th>width</th>\n",
       "      <th>height</th>\n",
       "      <th>channels</th>\n",
       "      <th>label</th>\n",
       "    </tr>\n",
       "  </thead>\n",
       "  <tbody>\n",
       "    <tr>\n",
       "      <th>0</th>\n",
       "      <td>../data/Warp-C/train_crops\\bottle\\bottle-blue\\...</td>\n",
       "      <td>False</td>\n",
       "      <td>aecead9899399491</td>\n",
       "      <td>jpg</td>\n",
       "      <td>409</td>\n",
       "      <td>190</td>\n",
       "      <td>3</td>\n",
       "      <td>bottle-blue</td>\n",
       "    </tr>\n",
       "    <tr>\n",
       "      <th>1</th>\n",
       "      <td>../data/Warp-C/train_crops\\bottle\\bottle-blue\\...</td>\n",
       "      <td>False</td>\n",
       "      <td>94a724b1adbd4bc8</td>\n",
       "      <td>jpg</td>\n",
       "      <td>285</td>\n",
       "      <td>368</td>\n",
       "      <td>3</td>\n",
       "      <td>bottle-blue</td>\n",
       "    </tr>\n",
       "    <tr>\n",
       "      <th>2</th>\n",
       "      <td>../data/Warp-C/train_crops\\bottle\\bottle-blue\\...</td>\n",
       "      <td>False</td>\n",
       "      <td>96cc6b62978ec272</td>\n",
       "      <td>jpg</td>\n",
       "      <td>398</td>\n",
       "      <td>424</td>\n",
       "      <td>3</td>\n",
       "      <td>bottle-blue</td>\n",
       "    </tr>\n",
       "    <tr>\n",
       "      <th>3</th>\n",
       "      <td>../data/Warp-C/train_crops\\bottle\\bottle-blue\\...</td>\n",
       "      <td>False</td>\n",
       "      <td>cc8c2e3bd93469d2</td>\n",
       "      <td>jpg</td>\n",
       "      <td>375</td>\n",
       "      <td>239</td>\n",
       "      <td>3</td>\n",
       "      <td>bottle-blue</td>\n",
       "    </tr>\n",
       "    <tr>\n",
       "      <th>4</th>\n",
       "      <td>../data/Warp-C/train_crops\\bottle\\bottle-blue\\...</td>\n",
       "      <td>False</td>\n",
       "      <td>df4028ff2410eecb</td>\n",
       "      <td>jpg</td>\n",
       "      <td>212</td>\n",
       "      <td>324</td>\n",
       "      <td>3</td>\n",
       "      <td>bottle-blue</td>\n",
       "    </tr>\n",
       "  </tbody>\n",
       "</table>\n",
       "</div>"
      ],
      "text/plain": [
       "                                          image_path  corrupted  \\\n",
       "0  ../data/Warp-C/train_crops\\bottle\\bottle-blue\\...      False   \n",
       "1  ../data/Warp-C/train_crops\\bottle\\bottle-blue\\...      False   \n",
       "2  ../data/Warp-C/train_crops\\bottle\\bottle-blue\\...      False   \n",
       "3  ../data/Warp-C/train_crops\\bottle\\bottle-blue\\...      False   \n",
       "4  ../data/Warp-C/train_crops\\bottle\\bottle-blue\\...      False   \n",
       "\n",
       "         image_hash image_format  width  height  channels        label  \n",
       "0  aecead9899399491          jpg    409     190         3  bottle-blue  \n",
       "1  94a724b1adbd4bc8          jpg    285     368         3  bottle-blue  \n",
       "2  96cc6b62978ec272          jpg    398     424         3  bottle-blue  \n",
       "3  cc8c2e3bd93469d2          jpg    375     239         3  bottle-blue  \n",
       "4  df4028ff2410eecb          jpg    212     324         3  bottle-blue  "
      ]
     },
     "metadata": {},
     "output_type": "display_data"
    },
    {
     "name": "stdout",
     "output_type": "stream",
     "text": [
      "\n",
      "Total de imagens processadas: 8823\n",
      "Total de imagens corrompidas: 0\n",
      "Imagens corrompidas:\n",
      "[]\n"
     ]
    }
   ],
   "source": [
    "import os\n",
    "import pandas as pd\n",
    "import cv2\n",
    "from PIL import Image\n",
    "import imagehash\n",
    "import matplotlib.pyplot as plt\n",
    "from IPython.display import display\n",
    "\n",
    "root_dir = '../data/Warp-C/train_crops'\n",
    "\n",
    "if not os.path.exists(root_dir):\n",
    "    raise FileNotFoundError(f\"Diretório não encontrado: {root_dir}. Verifique o caminho.\")\n",
    "\n",
    "count_corrupted = 0\n",
    "corrupted = []\n",
    "dataframe_list = []\n",
    "\n",
    "print(\"Iniciando a análise das imagens...\")\n",
    "\n",
    "try:\n",
    "    for main_folder in os.listdir(root_dir):\n",
    "        main_path = os.path.join(root_dir, main_folder)\n",
    "        if os.path.isdir(main_path):\n",
    "            for sub_folder in os.listdir(main_path):\n",
    "                sub_path = os.path.join(main_path, sub_folder)\n",
    "                if os.path.isdir(sub_path):\n",
    "                    for image in os.listdir(sub_path):\n",
    "                        img_path = os.path.join(sub_path, image)\n",
    "\n",
    "                        try:\n",
    "                            image_format = image.split('.')[-1].lower()\n",
    "                        except IndexError:\n",
    "                            image_format = None\n",
    "\n",
    "                        try:\n",
    "                            img = cv2.imread(img_path)\n",
    "                            if img is not None:\n",
    "                                img_rgb = cv2.cvtColor(img, cv2.COLOR_BGR2RGB)\n",
    "                                img_pil = Image.fromarray(img_rgb)\n",
    "                                img_hash = imagehash.phash(img_pil)\n",
    "                                width, height, channels = img.shape\n",
    "                                img_corrupted = False\n",
    "                            else:\n",
    "                                count_corrupted += 1\n",
    "                                corrupted.append(img_path)\n",
    "                                img_corrupted = True\n",
    "                                img_hash, width, height, channels = None, None, None, None\n",
    "                        except Exception:\n",
    "                            count_corrupted += 1\n",
    "                            corrupted.append(img_path)\n",
    "                            img_corrupted = True\n",
    "                            img_hash, width, height, channels = None, None, None, None\n",
    "                            print(f\"Erro ao processar {img_path}: {e}\")\n",
    "\n",
    "                        dataframe_list.append([\n",
    "                            img_path, img_corrupted, img_hash, image_format,\n",
    "                            width, height, channels, sub_folder\n",
    "                        ])\n",
    "\n",
    "except Exception as e:\n",
    "    print(f\"Ocorreu um erro na varredura das imagens: {e}\")\n",
    "    raise                        \n",
    "                        \n",
    "# Criando o DataFrame\n",
    "df = pd.DataFrame(dataframe_list, columns=[\n",
    "    'image_path', 'corrupted', 'image_hash', 'image_format',\n",
    "    'width', 'height', 'channels', 'label'\n",
    "])\n",
    "\n",
    "# df.head()\n",
    "display(df.head())\n",
    "\n",
    "#  Prints\n",
    "print(f\"\\nTotal de imagens processadas: {len(df)}\")\n",
    "print(f\"Total de imagens corrompidas: {count_corrupted}\")\n",
    "print(f\"Imagens corrompidas:\\n{corrupted}\")"
   ]
  },
  {
   "cell_type": "markdown",
   "metadata": {},
   "source": [
    "### 3. Verificar a Integridade dos Arquivos 🔍"
   ]
  },
  {
   "cell_type": "markdown",
   "metadata": {},
   "source": [
    "#### Informações estatísticas dos valores de altura, largura e canais das imagens:"
   ]
  },
  {
   "cell_type": "code",
   "execution_count": null,
   "metadata": {},
   "outputs": [],
   "source": [
    "# Exibir estatísticas"
   ]
  },
  {
   "cell_type": "markdown",
   "metadata": {},
   "source": [
    "#### Quantidade de imagens por formato:"
   ]
  },
  {
   "cell_type": "code",
   "execution_count": null,
   "metadata": {},
   "outputs": [],
   "source": [
    "# Plotar gráfico"
   ]
  },
  {
   "cell_type": "markdown",
   "metadata": {},
   "source": [
    "### 4. Verificar a Consistência dos Metadados 🔧"
   ]
  },
  {
   "cell_type": "markdown",
   "metadata": {},
   "source": [
    "#### Distribuição das dimensões (width x height):"
   ]
  },
  {
   "cell_type": "code",
   "execution_count": null,
   "metadata": {},
   "outputs": [],
   "source": [
    "# Plotar o gráfico de dispersão"
   ]
  },
  {
   "cell_type": "markdown",
   "metadata": {},
   "source": [
    "#### Informações nulas:"
   ]
  },
  {
   "cell_type": "code",
   "execution_count": null,
   "metadata": {},
   "outputs": [],
   "source": [
    "# Verificar informações nulas"
   ]
  },
  {
   "cell_type": "markdown",
   "metadata": {},
   "source": [
    "### 5. Analisar a Qualidade das Imagens 🧹"
   ]
  },
  {
   "cell_type": "markdown",
   "metadata": {},
   "source": [
    "#### Total de imagens corrompidas:"
   ]
  },
  {
   "cell_type": "code",
   "execution_count": null,
   "metadata": {},
   "outputs": [],
   "source": [
    "# Realizar a contagem de imagens corrompidas"
   ]
  },
  {
   "cell_type": "markdown",
   "metadata": {},
   "source": [
    "#### Quantidade de imagens corrompidas e não corrompidas:"
   ]
  },
  {
   "cell_type": "code",
   "execution_count": null,
   "metadata": {},
   "outputs": [],
   "source": [
    "# Exibir a quantidade de imagens corrompidas e não corrompidas"
   ]
  },
  {
   "cell_type": "markdown",
   "metadata": {},
   "source": [
    "### 6. Verificar a Distribuição das Classes 📊 "
   ]
  },
  {
   "cell_type": "code",
   "execution_count": null,
   "metadata": {},
   "outputs": [],
   "source": [
    "# Plotar gráfico da distribuição das classes"
   ]
  },
  {
   "cell_type": "markdown",
   "metadata": {},
   "source": [
    "### 7. Verificar a Presença de Duplicatas 🧠 "
   ]
  },
  {
   "cell_type": "markdown",
   "metadata": {},
   "source": [
    "#### Quantidade de duplicatas:"
   ]
  },
  {
   "cell_type": "code",
   "execution_count": null,
   "metadata": {},
   "outputs": [],
   "source": [
    "# Calcular quantidade de duplicatas\n"
   ]
  },
  {
   "cell_type": "markdown",
   "metadata": {},
   "source": [
    "#### Visualizar duplicatas:"
   ]
  },
  {
   "cell_type": "code",
   "execution_count": null,
   "metadata": {},
   "outputs": [],
   "source": [
    "# Verificar e exibir duplicatas, se houver"
   ]
  },
  {
   "cell_type": "markdown",
   "metadata": {},
   "source": [
    "#### Exibir imagens duplicadas:"
   ]
  },
  {
   "cell_type": "code",
   "execution_count": null,
   "metadata": {},
   "outputs": [],
   "source": [
    "# Verificar e exibir duplicatas lado a lado\n"
   ]
  },
  {
   "cell_type": "markdown",
   "metadata": {},
   "source": [
    "#### Gráficos de Duplicatas por Classe:"
   ]
  },
  {
   "cell_type": "code",
   "execution_count": null,
   "metadata": {},
   "outputs": [],
   "source": [
    "# Plotar grafico de duplicatas por classe"
   ]
  }
 ],
 "metadata": {
  "kernelspec": {
   "display_name": "venv",
   "language": "python",
   "name": "python3"
  },
  "language_info": {
   "codemirror_mode": {
    "name": "ipython",
    "version": 3
   },
   "file_extension": ".py",
   "mimetype": "text/x-python",
   "name": "python",
   "nbconvert_exporter": "python",
   "pygments_lexer": "ipython3",
   "version": "3.12.3"
  },
  "orig_nbformat": 4
 },
 "nbformat": 4,
 "nbformat_minor": 2
}
